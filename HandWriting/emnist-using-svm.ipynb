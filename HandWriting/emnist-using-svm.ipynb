{
 "cells": [
  {
   "cell_type": "code",
   "execution_count": 43,
   "id": "e459455a",
   "metadata": {
    "_cell_guid": "b1076dfc-b9ad-4769-8c92-a6c4dae69d19",
    "_uuid": "8f2839f25d086af736a60e9eeb907d3b93b6e0e5",
    "execution": {
     "iopub.execute_input": "2023-06-23T09:16:34.450381Z",
     "iopub.status.busy": "2023-06-23T09:16:34.449850Z",
     "iopub.status.idle": "2023-06-23T09:16:34.484328Z",
     "shell.execute_reply": "2023-06-23T09:16:34.483126Z"
    },
    "papermill": {
     "duration": 0.049847,
     "end_time": "2023-06-23T09:16:34.486682",
     "exception": false,
     "start_time": "2023-06-23T09:16:34.436835",
     "status": "completed"
    },
    "tags": []
   },
   "outputs": [
    {
     "name": "stdout",
     "output_type": "stream",
     "text": [
      "emnist\\emnist-balanced-mapping.txt\n",
      "emnist\\emnist-balanced-test.csv\n",
      "emnist\\emnist-balanced-train.csv\n",
      "emnist\\emnist-byclass-mapping.txt\n",
      "emnist\\emnist-byclass-test.csv\n",
      "emnist\\emnist-byclass-train.csv\n",
      "emnist\\emnist-bymerge-mapping.txt\n",
      "emnist\\emnist-bymerge-test.csv\n",
      "emnist\\emnist-bymerge-train.csv\n",
      "emnist\\emnist-digits-mapping.txt\n",
      "emnist\\emnist-digits-test.csv\n",
      "emnist\\emnist-digits-train.csv\n",
      "emnist\\emnist-letters-mapping.txt\n",
      "emnist\\emnist-letters-test.csv\n",
      "emnist\\emnist-letters-train.csv\n",
      "emnist\\emnist-mnist-mapping.txt\n",
      "emnist\\emnist-mnist-test.csv\n",
      "emnist\\emnist-mnist-train.csv\n",
      "emnist\\emnist_source_files\\emnist-balanced-test-images-idx3-ubyte\n",
      "emnist\\emnist_source_files\\emnist-balanced-test-labels-idx1-ubyte\n",
      "emnist\\emnist_source_files\\emnist-balanced-train-images-idx3-ubyte\n",
      "emnist\\emnist_source_files\\emnist-balanced-train-labels-idx1-ubyte\n",
      "emnist\\emnist_source_files\\emnist-byclass-test-images-idx3-ubyte\n",
      "emnist\\emnist_source_files\\emnist-byclass-test-labels-idx1-ubyte\n",
      "emnist\\emnist_source_files\\emnist-byclass-train-images-idx3-ubyte\n",
      "emnist\\emnist_source_files\\emnist-byclass-train-labels-idx1-ubyte\n",
      "emnist\\emnist_source_files\\emnist-bymerge-test-images-idx3-ubyte\n",
      "emnist\\emnist_source_files\\emnist-bymerge-test-labels-idx1-ubyte\n",
      "emnist\\emnist_source_files\\emnist-bymerge-train-images-idx3-ubyte\n",
      "emnist\\emnist_source_files\\emnist-bymerge-train-labels-idx1-ubyte\n",
      "emnist\\emnist_source_files\\emnist-digits-test-images-idx3-ubyte\n",
      "emnist\\emnist_source_files\\emnist-digits-test-labels-idx1-ubyte\n",
      "emnist\\emnist_source_files\\emnist-digits-train-images-idx3-ubyte\n",
      "emnist\\emnist_source_files\\emnist-digits-train-labels-idx1-ubyte\n",
      "emnist\\emnist_source_files\\emnist-letters-test-images-idx3-ubyte\n",
      "emnist\\emnist_source_files\\emnist-letters-test-labels-idx1-ubyte\n",
      "emnist\\emnist_source_files\\emnist-letters-train-images-idx3-ubyte\n",
      "emnist\\emnist_source_files\\emnist-letters-train-labels-idx1-ubyte\n",
      "emnist\\emnist_source_files\\emnist-mnist-test-images-idx3-ubyte\n",
      "emnist\\emnist_source_files\\emnist-mnist-test-labels-idx1-ubyte\n",
      "emnist\\emnist_source_files\\emnist-mnist-train-images-idx3-ubyte\n",
      "emnist\\emnist_source_files\\emnist-mnist-train-labels-idx1-ubyte\n"
     ]
    }
   ],
   "source": [
    "import os\n",
    "for dirname, _, filenames in os.walk('emnist'):\n",
    "    for filename in filenames:\n",
    "        print(os.path.join(dirname, filename))\n"
   ]
  },
  {
   "cell_type": "markdown",
   "id": "130f1ad8",
   "metadata": {},
   "source": [
    "![Alt Text](./images/flow_chart.png)\n"
   ]
  },
  {
   "cell_type": "markdown",
   "id": "c968ee30",
   "metadata": {
    "papermill": {
     "duration": 0.007594,
     "end_time": "2023-06-23T09:16:34.517851",
     "exception": false,
     "start_time": "2023-06-23T09:16:34.510257",
     "status": "completed"
    },
    "tags": []
   },
   "source": [
    "## **1.Data Preprocessing**"
   ]
  },
  {
   "cell_type": "code",
   "execution_count": 3,
   "id": "d4762a85",
   "metadata": {
    "execution": {
     "iopub.execute_input": "2023-06-23T09:16:34.535214Z",
     "iopub.status.busy": "2023-06-23T09:16:34.534808Z",
     "iopub.status.idle": "2023-06-23T09:16:36.167906Z",
     "shell.execute_reply": "2023-06-23T09:16:36.167104Z"
    },
    "papermill": {
     "duration": 1.644626,
     "end_time": "2023-06-23T09:16:36.170397",
     "exception": false,
     "start_time": "2023-06-23T09:16:34.525771",
     "status": "completed"
    },
    "tags": []
   },
   "outputs": [],
   "source": [
    "#add literature survey\n",
    "import numpy as np\n",
    "import pandas as pd\n",
    "from SVM import SupportVectorMachine as SVC\n",
    "\n",
    "from sklearn.model_selection import train_test_split\n",
    "from sklearn.model_selection import KFold\n",
    "from sklearn.model_selection import GridSearchCV\n",
    "import matplotlib.pyplot as plt\n",
    "%matplotlib inline"
   ]
  },
  {
   "cell_type": "code",
   "execution_count": 45,
   "id": "ba312069",
   "metadata": {
    "execution": {
     "iopub.execute_input": "2023-06-23T09:16:36.188546Z",
     "iopub.status.busy": "2023-06-23T09:16:36.187752Z",
     "iopub.status.idle": "2023-06-23T09:16:46.868270Z",
     "shell.execute_reply": "2023-06-23T09:16:46.867220Z"
    },
    "papermill": {
     "duration": 10.692142,
     "end_time": "2023-06-23T09:16:46.870914",
     "exception": false,
     "start_time": "2023-06-23T09:16:36.178772",
     "status": "completed"
    },
    "tags": []
   },
   "outputs": [],
   "source": [
    "train_data = pd.read_csv(\"emnist/emnist-balanced-train.csv\", header = None)\n",
    "test_data = pd.read_csv(\"emnist/emnist-balanced-test.csv\", header = None)\n",
    "mapping = pd.read_csv(\"emnist/emnist-balanced-mapping.txt\", sep = ' ', header = None)\n",
    "#28x28 pixels"
   ]
  },
  {
   "cell_type": "code",
   "execution_count": 46,
   "id": "bf92517d",
   "metadata": {
    "execution": {
     "iopub.execute_input": "2023-06-23T09:16:46.889072Z",
     "iopub.status.busy": "2023-06-23T09:16:46.888702Z",
     "iopub.status.idle": "2023-06-23T09:16:46.906877Z",
     "shell.execute_reply": "2023-06-23T09:16:46.905756Z"
    },
    "papermill": {
     "duration": 0.030302,
     "end_time": "2023-06-23T09:16:46.909834",
     "exception": false,
     "start_time": "2023-06-23T09:16:46.879532",
     "status": "completed"
    },
    "tags": []
   },
   "outputs": [
    {
     "data": {
      "text/plain": [
       "Index(['label',       1,       2,       3,       4,       5,       6,       7,\n",
       "             8,       9,\n",
       "       ...\n",
       "           775,     776,     777,     778,     779,     780,     781,     782,\n",
       "           783,     784],\n",
       "      dtype='object', length=785)"
      ]
     },
     "execution_count": 46,
     "metadata": {},
     "output_type": "execute_result"
    }
   ],
   "source": [
    "train_data.rename(columns= {0: 'label'}, inplace = True)\n",
    "test_data.rename(columns= {0: 'label'}, inplace = True)\n",
    "train_data.columns"
   ]
  },
  {
   "cell_type": "code",
   "execution_count": 47,
   "id": "49cdcd3a",
   "metadata": {
    "execution": {
     "iopub.execute_input": "2023-06-23T09:16:46.928628Z",
     "iopub.status.busy": "2023-06-23T09:16:46.928216Z",
     "iopub.status.idle": "2023-06-23T09:16:46.941396Z",
     "shell.execute_reply": "2023-06-23T09:16:46.940217Z"
    },
    "papermill": {
     "duration": 0.025371,
     "end_time": "2023-06-23T09:16:46.943617",
     "exception": false,
     "start_time": "2023-06-23T09:16:46.918246",
     "status": "completed"
    },
    "tags": []
   },
   "outputs": [
    {
     "data": {
      "text/plain": [
       "array([45, 36, 43, 15,  4, 42, 26, 32, 20,  1, 46, 13, 24, 12,  5, 17,  3,\n",
       "       40, 14, 44, 19, 29, 25, 35, 28, 23, 22, 34,  9, 30, 38, 39, 37, 31,\n",
       "       16,  7,  2,  8, 10,  6, 27, 33, 11, 18, 41,  0, 21])"
      ]
     },
     "execution_count": 47,
     "metadata": {},
     "output_type": "execute_result"
    }
   ],
   "source": [
    "train_data['label'].unique()"
   ]
  },
  {
   "cell_type": "code",
   "execution_count": 48,
   "id": "45d17abd",
   "metadata": {
    "execution": {
     "iopub.execute_input": "2023-06-23T09:16:46.962992Z",
     "iopub.status.busy": "2023-06-23T09:16:46.961879Z",
     "iopub.status.idle": "2023-06-23T09:16:46.971273Z",
     "shell.execute_reply": "2023-06-23T09:16:46.970138Z"
    },
    "papermill": {
     "duration": 0.021533,
     "end_time": "2023-06-23T09:16:46.973534",
     "exception": false,
     "start_time": "2023-06-23T09:16:46.952001",
     "status": "completed"
    },
    "tags": []
   },
   "outputs": [
    {
     "data": {
      "text/plain": [
       "{0: '0',\n",
       " 1: '1',\n",
       " 2: '2',\n",
       " 3: '3',\n",
       " 4: '4',\n",
       " 5: '5',\n",
       " 6: '6',\n",
       " 7: '7',\n",
       " 8: '8',\n",
       " 9: '9',\n",
       " 10: 'A',\n",
       " 11: 'B',\n",
       " 12: 'C',\n",
       " 13: 'D',\n",
       " 14: 'E',\n",
       " 15: 'F',\n",
       " 16: 'G',\n",
       " 17: 'H',\n",
       " 18: 'I',\n",
       " 19: 'J',\n",
       " 20: 'K',\n",
       " 21: 'L',\n",
       " 22: 'M',\n",
       " 23: 'N',\n",
       " 24: 'O',\n",
       " 25: 'P',\n",
       " 26: 'Q',\n",
       " 27: 'R',\n",
       " 28: 'S',\n",
       " 29: 'T',\n",
       " 30: 'U',\n",
       " 31: 'V',\n",
       " 32: 'W',\n",
       " 33: 'X',\n",
       " 34: 'Y',\n",
       " 35: 'Z',\n",
       " 36: 'a',\n",
       " 37: 'b',\n",
       " 38: 'd',\n",
       " 39: 'e',\n",
       " 40: 'f',\n",
       " 41: 'g',\n",
       " 42: 'h',\n",
       " 43: 'n',\n",
       " 44: 'q',\n",
       " 45: 'r',\n",
       " 46: 't'}"
      ]
     },
     "execution_count": 48,
     "metadata": {},
     "output_type": "execute_result"
    }
   ],
   "source": [
    "# Create mapping dictionary\n",
    "map_dict = {}\n",
    "asc_code = mapping[1].values\n",
    "for i, v in enumerate(asc_code):\n",
    "    map_dict[i] = chr(v)\n",
    "    \n",
    "map_dict"
   ]
  },
  {
   "cell_type": "code",
   "execution_count": 51,
   "id": "e97e2edb",
   "metadata": {
    "execution": {
     "iopub.execute_input": "2023-06-23T09:16:46.992495Z",
     "iopub.status.busy": "2023-06-23T09:16:46.991727Z",
     "iopub.status.idle": "2023-06-23T09:16:47.031599Z",
     "shell.execute_reply": "2023-06-23T09:16:47.030469Z"
    },
    "papermill": {
     "duration": 0.052095,
     "end_time": "2023-06-23T09:16:47.034050",
     "exception": false,
     "start_time": "2023-06-23T09:16:46.981955",
     "status": "completed"
    },
    "tags": []
   },
   "outputs": [
    {
     "data": {
      "image/png": "[encoded data removed]",
      "text/plain": [
       "<Figure size 1000x1000 with 16 Axes>"
      ]
     },
     "metadata": {},
     "output_type": "display_data"
    }
   ],
   "source": [
    "# Function to display images in a grid with labels\n",
    "def display_images_grid(images, labels, map_dict, num_images=16, rows=4, cols=4):\n",
    "    plt.figure(figsize=(10, 10))  # Adjust the figure size as needed\n",
    "    for i in range(num_images):\n",
    "        img = images.iloc[i].values.reshape(28, 28).T  # Transpose to correct orientation\n",
    "        label = labels.iloc[i]\n",
    "        plt.subplot(rows, cols, i+1)\n",
    "        plt.imshow(img, cmap='gray')\n",
    "        plt.title(f\"Label: {map_dict[label]}\")\n",
    "        plt.axis('off')\n",
    "    plt.tight_layout()\n",
    "    plt.show()\n",
    "\n",
    "# Display first 16 images from the training data in a 4x4 grid\n",
    "display_images_grid(train_data.drop(['label'], axis=1), train_data['label'], map_dict, num_images=16, rows=4, cols=4)\n"
   ]
  },
  {
   "cell_type": "code",
   "execution_count": 32,
   "id": "b0069d71",
   "metadata": {
    "execution": {
     "iopub.execute_input": "2023-06-23T09:16:47.070848Z",
     "iopub.status.busy": "2023-06-23T09:16:47.070467Z",
     "iopub.status.idle": "2023-06-23T09:16:47.336589Z",
     "shell.execute_reply": "2023-06-23T09:16:47.335523Z"
    },
    "papermill": {
     "duration": 0.278276,
     "end_time": "2023-06-23T09:16:47.338814",
     "exception": false,
     "start_time": "2023-06-23T09:16:47.060538",
     "status": "completed"
    },
    "tags": []
   },
   "outputs": [
    {
     "data": {
      "text/plain": [
       "array([ 0,  1,  2,  3,  4,  5,  6,  7,  8,  9, 10, 11, 12, 13, 14, 15, 16,\n",
       "       17, 18, 19, 20, 21, 22, 23, 24, 25, 26, 27, 28, 29, 30, 31, 32, 33,\n",
       "       34, 35])"
      ]
     },
     "execution_count": 32,
     "metadata": {},
     "output_type": "execute_result"
    }
   ],
   "source": [
    "# why until 36? cuz this\n",
    "\n",
    "# Digits: 0-9 (10 classes)\n",
    "# Upper-case letters: A-Z (26 classes)\n",
    "# Lower-case letters: a-z (11 classes)\n",
    "acceptable_range = np.arange(0, 36)\n",
    "train_data = train_data[train_data[\"label\"].isin(acceptable_range)]\n",
    "test_data = test_data[test_data[\"label\"].isin(acceptable_range)]\n",
    "np.sort(train_data.label.unique())"
   ]
  },
  {
   "cell_type": "code",
   "execution_count": 33,
   "id": "bd2a85e1",
   "metadata": {
    "execution": {
     "iopub.execute_input": "2023-06-23T09:16:47.358692Z",
     "iopub.status.busy": "2023-06-23T09:16:47.357992Z",
     "iopub.status.idle": "2023-06-23T09:16:47.422798Z",
     "shell.execute_reply": "2023-06-23T09:16:47.421769Z"
    },
    "papermill": {
     "duration": 0.077549,
     "end_time": "2023-06-23T09:16:47.425286",
     "exception": false,
     "start_time": "2023-06-23T09:16:47.347737",
     "status": "completed"
    },
    "tags": []
   },
   "outputs": [
    {
     "data": {
      "text/plain": [
       "label    0\n",
       "1        0\n",
       "2        0\n",
       "3        0\n",
       "4        0\n",
       "5        0\n",
       "6        0\n",
       "7        0\n",
       "8        0\n",
       "9        0\n",
       "dtype: int64"
      ]
     },
     "execution_count": 33,
     "metadata": {},
     "output_type": "execute_result"
    }
   ],
   "source": [
    "train_data.isnull().sum().head(10)"
   ]
  },
  {
   "cell_type": "code",
   "execution_count": 34,
   "id": "5701be2e",
   "metadata": {
    "execution": {
     "iopub.execute_input": "2023-06-23T09:16:47.445260Z",
     "iopub.status.busy": "2023-06-23T09:16:47.444465Z",
     "iopub.status.idle": "2023-06-23T09:16:47.475333Z",
     "shell.execute_reply": "2023-06-23T09:16:47.474616Z"
    },
    "papermill": {
     "duration": 0.042993,
     "end_time": "2023-06-23T09:16:47.477509",
     "exception": false,
     "start_time": "2023-06-23T09:16:47.434516",
     "status": "completed"
    },
    "tags": []
   },
   "outputs": [
    {
     "data": {
      "text/html": [
       "<div>\n",
       "<style scoped>\n",
       "    .dataframe tbody tr th:only-of-type {\n",
       "        vertical-align: middle;\n",
       "    }\n",
       "\n",
       "    .dataframe tbody tr th {\n",
       "        vertical-align: top;\n",
       "    }\n",
       "\n",
       "    .dataframe thead th {\n",
       "        text-align: right;\n",
       "    }\n",
       "</style>\n",
       "<table border=\"1\" class=\"dataframe\">\n",
       "  <thead>\n",
       "    <tr style=\"text-align: right;\">\n",
       "      <th></th>\n",
       "      <th>index</th>\n",
       "      <th>label</th>\n",
       "      <th>1</th>\n",
       "      <th>2</th>\n",
       "      <th>3</th>\n",
       "      <th>4</th>\n",
       "      <th>5</th>\n",
       "      <th>6</th>\n",
       "      <th>7</th>\n",
       "      <th>8</th>\n",
       "      <th>...</th>\n",
       "      <th>775</th>\n",
       "      <th>776</th>\n",
       "      <th>777</th>\n",
       "      <th>778</th>\n",
       "      <th>779</th>\n",
       "      <th>780</th>\n",
       "      <th>781</th>\n",
       "      <th>782</th>\n",
       "      <th>783</th>\n",
       "      <th>784</th>\n",
       "    </tr>\n",
       "  </thead>\n",
       "  <tbody>\n",
       "    <tr>\n",
       "      <th>0</th>\n",
       "      <td>3</td>\n",
       "      <td>15</td>\n",
       "      <td>0</td>\n",
       "      <td>0</td>\n",
       "      <td>0</td>\n",
       "      <td>0</td>\n",
       "      <td>0</td>\n",
       "      <td>0</td>\n",
       "      <td>0</td>\n",
       "      <td>0</td>\n",
       "      <td>...</td>\n",
       "      <td>0</td>\n",
       "      <td>0</td>\n",
       "      <td>0</td>\n",
       "      <td>0</td>\n",
       "      <td>0</td>\n",
       "      <td>0</td>\n",
       "      <td>0</td>\n",
       "      <td>0</td>\n",
       "      <td>0</td>\n",
       "      <td>0</td>\n",
       "    </tr>\n",
       "    <tr>\n",
       "      <th>1</th>\n",
       "      <td>4</td>\n",
       "      <td>4</td>\n",
       "      <td>0</td>\n",
       "      <td>0</td>\n",
       "      <td>0</td>\n",
       "      <td>0</td>\n",
       "      <td>0</td>\n",
       "      <td>0</td>\n",
       "      <td>0</td>\n",
       "      <td>0</td>\n",
       "      <td>...</td>\n",
       "      <td>0</td>\n",
       "      <td>0</td>\n",
       "      <td>0</td>\n",
       "      <td>0</td>\n",
       "      <td>0</td>\n",
       "      <td>0</td>\n",
       "      <td>0</td>\n",
       "      <td>0</td>\n",
       "      <td>0</td>\n",
       "      <td>0</td>\n",
       "    </tr>\n",
       "    <tr>\n",
       "      <th>2</th>\n",
       "      <td>6</td>\n",
       "      <td>26</td>\n",
       "      <td>0</td>\n",
       "      <td>0</td>\n",
       "      <td>0</td>\n",
       "      <td>0</td>\n",
       "      <td>0</td>\n",
       "      <td>0</td>\n",
       "      <td>0</td>\n",
       "      <td>0</td>\n",
       "      <td>...</td>\n",
       "      <td>0</td>\n",
       "      <td>0</td>\n",
       "      <td>0</td>\n",
       "      <td>0</td>\n",
       "      <td>0</td>\n",
       "      <td>0</td>\n",
       "      <td>0</td>\n",
       "      <td>0</td>\n",
       "      <td>0</td>\n",
       "      <td>0</td>\n",
       "    </tr>\n",
       "    <tr>\n",
       "      <th>3</th>\n",
       "      <td>7</td>\n",
       "      <td>32</td>\n",
       "      <td>0</td>\n",
       "      <td>0</td>\n",
       "      <td>0</td>\n",
       "      <td>0</td>\n",
       "      <td>0</td>\n",
       "      <td>0</td>\n",
       "      <td>0</td>\n",
       "      <td>0</td>\n",
       "      <td>...</td>\n",
       "      <td>0</td>\n",
       "      <td>0</td>\n",
       "      <td>0</td>\n",
       "      <td>0</td>\n",
       "      <td>0</td>\n",
       "      <td>0</td>\n",
       "      <td>0</td>\n",
       "      <td>0</td>\n",
       "      <td>0</td>\n",
       "      <td>0</td>\n",
       "    </tr>\n",
       "    <tr>\n",
       "      <th>4</th>\n",
       "      <td>8</td>\n",
       "      <td>20</td>\n",
       "      <td>0</td>\n",
       "      <td>0</td>\n",
       "      <td>0</td>\n",
       "      <td>0</td>\n",
       "      <td>0</td>\n",
       "      <td>0</td>\n",
       "      <td>0</td>\n",
       "      <td>0</td>\n",
       "      <td>...</td>\n",
       "      <td>0</td>\n",
       "      <td>0</td>\n",
       "      <td>0</td>\n",
       "      <td>0</td>\n",
       "      <td>0</td>\n",
       "      <td>0</td>\n",
       "      <td>0</td>\n",
       "      <td>0</td>\n",
       "      <td>0</td>\n",
       "      <td>0</td>\n",
       "    </tr>\n",
       "    <tr>\n",
       "      <th>...</th>\n",
       "      <td>...</td>\n",
       "      <td>...</td>\n",
       "      <td>...</td>\n",
       "      <td>...</td>\n",
       "      <td>...</td>\n",
       "      <td>...</td>\n",
       "      <td>...</td>\n",
       "      <td>...</td>\n",
       "      <td>...</td>\n",
       "      <td>...</td>\n",
       "      <td>...</td>\n",
       "      <td>...</td>\n",
       "      <td>...</td>\n",
       "      <td>...</td>\n",
       "      <td>...</td>\n",
       "      <td>...</td>\n",
       "      <td>...</td>\n",
       "      <td>...</td>\n",
       "      <td>...</td>\n",
       "      <td>...</td>\n",
       "      <td>...</td>\n",
       "    </tr>\n",
       "    <tr>\n",
       "      <th>86395</th>\n",
       "      <td>112795</td>\n",
       "      <td>22</td>\n",
       "      <td>0</td>\n",
       "      <td>0</td>\n",
       "      <td>0</td>\n",
       "      <td>0</td>\n",
       "      <td>0</td>\n",
       "      <td>0</td>\n",
       "      <td>0</td>\n",
       "      <td>0</td>\n",
       "      <td>...</td>\n",
       "      <td>0</td>\n",
       "      <td>0</td>\n",
       "      <td>0</td>\n",
       "      <td>0</td>\n",
       "      <td>0</td>\n",
       "      <td>0</td>\n",
       "      <td>0</td>\n",
       "      <td>0</td>\n",
       "      <td>0</td>\n",
       "      <td>0</td>\n",
       "    </tr>\n",
       "    <tr>\n",
       "      <th>86396</th>\n",
       "      <td>112796</td>\n",
       "      <td>17</td>\n",
       "      <td>0</td>\n",
       "      <td>0</td>\n",
       "      <td>0</td>\n",
       "      <td>0</td>\n",
       "      <td>0</td>\n",
       "      <td>0</td>\n",
       "      <td>0</td>\n",
       "      <td>0</td>\n",
       "      <td>...</td>\n",
       "      <td>0</td>\n",
       "      <td>0</td>\n",
       "      <td>0</td>\n",
       "      <td>0</td>\n",
       "      <td>0</td>\n",
       "      <td>0</td>\n",
       "      <td>0</td>\n",
       "      <td>0</td>\n",
       "      <td>0</td>\n",
       "      <td>0</td>\n",
       "    </tr>\n",
       "    <tr>\n",
       "      <th>86397</th>\n",
       "      <td>112797</td>\n",
       "      <td>23</td>\n",
       "      <td>0</td>\n",
       "      <td>0</td>\n",
       "      <td>0</td>\n",
       "      <td>0</td>\n",
       "      <td>0</td>\n",
       "      <td>0</td>\n",
       "      <td>0</td>\n",
       "      <td>0</td>\n",
       "      <td>...</td>\n",
       "      <td>0</td>\n",
       "      <td>0</td>\n",
       "      <td>0</td>\n",
       "      <td>0</td>\n",
       "      <td>0</td>\n",
       "      <td>0</td>\n",
       "      <td>0</td>\n",
       "      <td>0</td>\n",
       "      <td>0</td>\n",
       "      <td>0</td>\n",
       "    </tr>\n",
       "    <tr>\n",
       "      <th>86398</th>\n",
       "      <td>112798</td>\n",
       "      <td>31</td>\n",
       "      <td>0</td>\n",
       "      <td>0</td>\n",
       "      <td>0</td>\n",
       "      <td>0</td>\n",
       "      <td>0</td>\n",
       "      <td>0</td>\n",
       "      <td>0</td>\n",
       "      <td>0</td>\n",
       "      <td>...</td>\n",
       "      <td>0</td>\n",
       "      <td>0</td>\n",
       "      <td>0</td>\n",
       "      <td>0</td>\n",
       "      <td>0</td>\n",
       "      <td>0</td>\n",
       "      <td>0</td>\n",
       "      <td>0</td>\n",
       "      <td>0</td>\n",
       "      <td>0</td>\n",
       "    </tr>\n",
       "    <tr>\n",
       "      <th>86399</th>\n",
       "      <td>112799</td>\n",
       "      <td>8</td>\n",
       "      <td>0</td>\n",
       "      <td>0</td>\n",
       "      <td>0</td>\n",
       "      <td>0</td>\n",
       "      <td>0</td>\n",
       "      <td>0</td>\n",
       "      <td>0</td>\n",
       "      <td>0</td>\n",
       "      <td>...</td>\n",
       "      <td>0</td>\n",
       "      <td>0</td>\n",
       "      <td>0</td>\n",
       "      <td>0</td>\n",
       "      <td>0</td>\n",
       "      <td>0</td>\n",
       "      <td>0</td>\n",
       "      <td>0</td>\n",
       "      <td>0</td>\n",
       "      <td>0</td>\n",
       "    </tr>\n",
       "  </tbody>\n",
       "</table>\n",
       "<p>86400 rows × 786 columns</p>\n",
       "</div>"
      ],
      "text/plain": [
       "        index  label  1  2  3  4  5  6  7  8  ...  775  776  777  778  779  \\\n",
       "0           3     15  0  0  0  0  0  0  0  0  ...    0    0    0    0    0   \n",
       "1           4      4  0  0  0  0  0  0  0  0  ...    0    0    0    0    0   \n",
       "2           6     26  0  0  0  0  0  0  0  0  ...    0    0    0    0    0   \n",
       "3           7     32  0  0  0  0  0  0  0  0  ...    0    0    0    0    0   \n",
       "4           8     20  0  0  0  0  0  0  0  0  ...    0    0    0    0    0   \n",
       "...       ...    ... .. .. .. .. .. .. .. ..  ...  ...  ...  ...  ...  ...   \n",
       "86395  112795     22  0  0  0  0  0  0  0  0  ...    0    0    0    0    0   \n",
       "86396  112796     17  0  0  0  0  0  0  0  0  ...    0    0    0    0    0   \n",
       "86397  112797     23  0  0  0  0  0  0  0  0  ...    0    0    0    0    0   \n",
       "86398  112798     31  0  0  0  0  0  0  0  0  ...    0    0    0    0    0   \n",
       "86399  112799      8  0  0  0  0  0  0  0  0  ...    0    0    0    0    0   \n",
       "\n",
       "       780  781  782  783  784  \n",
       "0        0    0    0    0    0  \n",
       "1        0    0    0    0    0  \n",
       "2        0    0    0    0    0  \n",
       "3        0    0    0    0    0  \n",
       "4        0    0    0    0    0  \n",
       "...    ...  ...  ...  ...  ...  \n",
       "86395    0    0    0    0    0  \n",
       "86396    0    0    0    0    0  \n",
       "86397    0    0    0    0    0  \n",
       "86398    0    0    0    0    0  \n",
       "86399    0    0    0    0    0  \n",
       "\n",
       "[86400 rows x 786 columns]"
      ]
     },
     "execution_count": 34,
     "metadata": {},
     "output_type": "execute_result"
    }
   ],
   "source": [
    "# Resetting data\n",
    "train_data.reset_index(inplace = True)\n",
    "train_data"
   ]
  },
  {
   "cell_type": "code",
   "execution_count": 35,
   "id": "a4c612d6",
   "metadata": {
    "execution": {
     "iopub.execute_input": "2023-06-23T09:16:47.499013Z",
     "iopub.status.busy": "2023-06-23T09:16:47.498398Z",
     "iopub.status.idle": "2023-06-23T09:16:49.292372Z",
     "shell.execute_reply": "2023-06-23T09:16:49.291370Z"
    },
    "papermill": {
     "duration": 1.807501,
     "end_time": "2023-06-23T09:16:49.294921",
     "exception": false,
     "start_time": "2023-06-23T09:16:47.487420",
     "status": "completed"
    },
    "tags": []
   },
   "outputs": [
    {
     "data": {
      "text/html": [
       "<div>\n",
       "<style scoped>\n",
       "    .dataframe tbody tr th:only-of-type {\n",
       "        vertical-align: middle;\n",
       "    }\n",
       "\n",
       "    .dataframe tbody tr th {\n",
       "        vertical-align: top;\n",
       "    }\n",
       "\n",
       "    .dataframe thead th {\n",
       "        text-align: right;\n",
       "    }\n",
       "</style>\n",
       "<table border=\"1\" class=\"dataframe\">\n",
       "  <thead>\n",
       "    <tr style=\"text-align: right;\">\n",
       "      <th></th>\n",
       "      <th>label</th>\n",
       "      <th>1</th>\n",
       "      <th>2</th>\n",
       "      <th>3</th>\n",
       "      <th>4</th>\n",
       "      <th>5</th>\n",
       "      <th>6</th>\n",
       "      <th>7</th>\n",
       "      <th>8</th>\n",
       "      <th>9</th>\n",
       "      <th>...</th>\n",
       "      <th>775</th>\n",
       "      <th>776</th>\n",
       "      <th>777</th>\n",
       "      <th>778</th>\n",
       "      <th>779</th>\n",
       "      <th>780</th>\n",
       "      <th>781</th>\n",
       "      <th>782</th>\n",
       "      <th>783</th>\n",
       "      <th>784</th>\n",
       "    </tr>\n",
       "  </thead>\n",
       "  <tbody>\n",
       "    <tr>\n",
       "      <th>count</th>\n",
       "      <td>14400.000000</td>\n",
       "      <td>14400.0</td>\n",
       "      <td>14400.0</td>\n",
       "      <td>14400.0</td>\n",
       "      <td>14400.0</td>\n",
       "      <td>14400.000000</td>\n",
       "      <td>14400.000000</td>\n",
       "      <td>14400.000000</td>\n",
       "      <td>14400.000000</td>\n",
       "      <td>14400.000000</td>\n",
       "      <td>...</td>\n",
       "      <td>14400.0</td>\n",
       "      <td>14400.0</td>\n",
       "      <td>14400.0</td>\n",
       "      <td>14400.0</td>\n",
       "      <td>14400.0</td>\n",
       "      <td>14400.0</td>\n",
       "      <td>14400.0</td>\n",
       "      <td>14400.0</td>\n",
       "      <td>14400.0</td>\n",
       "      <td>14400.0</td>\n",
       "    </tr>\n",
       "    <tr>\n",
       "      <th>mean</th>\n",
       "      <td>17.500000</td>\n",
       "      <td>0.0</td>\n",
       "      <td>0.0</td>\n",
       "      <td>0.0</td>\n",
       "      <td>0.0</td>\n",
       "      <td>0.007917</td>\n",
       "      <td>0.025764</td>\n",
       "      <td>0.014722</td>\n",
       "      <td>0.012222</td>\n",
       "      <td>0.014722</td>\n",
       "      <td>...</td>\n",
       "      <td>0.0</td>\n",
       "      <td>0.0</td>\n",
       "      <td>0.0</td>\n",
       "      <td>0.0</td>\n",
       "      <td>0.0</td>\n",
       "      <td>0.0</td>\n",
       "      <td>0.0</td>\n",
       "      <td>0.0</td>\n",
       "      <td>0.0</td>\n",
       "      <td>0.0</td>\n",
       "    </tr>\n",
       "    <tr>\n",
       "      <th>std</th>\n",
       "      <td>10.388655</td>\n",
       "      <td>0.0</td>\n",
       "      <td>0.0</td>\n",
       "      <td>0.0</td>\n",
       "      <td>0.0</td>\n",
       "      <td>0.604236</td>\n",
       "      <td>2.012452</td>\n",
       "      <td>1.204803</td>\n",
       "      <td>1.019562</td>\n",
       "      <td>1.733652</td>\n",
       "      <td>...</td>\n",
       "      <td>0.0</td>\n",
       "      <td>0.0</td>\n",
       "      <td>0.0</td>\n",
       "      <td>0.0</td>\n",
       "      <td>0.0</td>\n",
       "      <td>0.0</td>\n",
       "      <td>0.0</td>\n",
       "      <td>0.0</td>\n",
       "      <td>0.0</td>\n",
       "      <td>0.0</td>\n",
       "    </tr>\n",
       "    <tr>\n",
       "      <th>min</th>\n",
       "      <td>0.000000</td>\n",
       "      <td>0.0</td>\n",
       "      <td>0.0</td>\n",
       "      <td>0.0</td>\n",
       "      <td>0.0</td>\n",
       "      <td>0.000000</td>\n",
       "      <td>0.000000</td>\n",
       "      <td>0.000000</td>\n",
       "      <td>0.000000</td>\n",
       "      <td>0.000000</td>\n",
       "      <td>...</td>\n",
       "      <td>0.0</td>\n",
       "      <td>0.0</td>\n",
       "      <td>0.0</td>\n",
       "      <td>0.0</td>\n",
       "      <td>0.0</td>\n",
       "      <td>0.0</td>\n",
       "      <td>0.0</td>\n",
       "      <td>0.0</td>\n",
       "      <td>0.0</td>\n",
       "      <td>0.0</td>\n",
       "    </tr>\n",
       "    <tr>\n",
       "      <th>25%</th>\n",
       "      <td>8.750000</td>\n",
       "      <td>0.0</td>\n",
       "      <td>0.0</td>\n",
       "      <td>0.0</td>\n",
       "      <td>0.0</td>\n",
       "      <td>0.000000</td>\n",
       "      <td>0.000000</td>\n",
       "      <td>0.000000</td>\n",
       "      <td>0.000000</td>\n",
       "      <td>0.000000</td>\n",
       "      <td>...</td>\n",
       "      <td>0.0</td>\n",
       "      <td>0.0</td>\n",
       "      <td>0.0</td>\n",
       "      <td>0.0</td>\n",
       "      <td>0.0</td>\n",
       "      <td>0.0</td>\n",
       "      <td>0.0</td>\n",
       "      <td>0.0</td>\n",
       "      <td>0.0</td>\n",
       "      <td>0.0</td>\n",
       "    </tr>\n",
       "    <tr>\n",
       "      <th>50%</th>\n",
       "      <td>17.500000</td>\n",
       "      <td>0.0</td>\n",
       "      <td>0.0</td>\n",
       "      <td>0.0</td>\n",
       "      <td>0.0</td>\n",
       "      <td>0.000000</td>\n",
       "      <td>0.000000</td>\n",
       "      <td>0.000000</td>\n",
       "      <td>0.000000</td>\n",
       "      <td>0.000000</td>\n",
       "      <td>...</td>\n",
       "      <td>0.0</td>\n",
       "      <td>0.0</td>\n",
       "      <td>0.0</td>\n",
       "      <td>0.0</td>\n",
       "      <td>0.0</td>\n",
       "      <td>0.0</td>\n",
       "      <td>0.0</td>\n",
       "      <td>0.0</td>\n",
       "      <td>0.0</td>\n",
       "      <td>0.0</td>\n",
       "    </tr>\n",
       "    <tr>\n",
       "      <th>75%</th>\n",
       "      <td>26.250000</td>\n",
       "      <td>0.0</td>\n",
       "      <td>0.0</td>\n",
       "      <td>0.0</td>\n",
       "      <td>0.0</td>\n",
       "      <td>0.000000</td>\n",
       "      <td>0.000000</td>\n",
       "      <td>0.000000</td>\n",
       "      <td>0.000000</td>\n",
       "      <td>0.000000</td>\n",
       "      <td>...</td>\n",
       "      <td>0.0</td>\n",
       "      <td>0.0</td>\n",
       "      <td>0.0</td>\n",
       "      <td>0.0</td>\n",
       "      <td>0.0</td>\n",
       "      <td>0.0</td>\n",
       "      <td>0.0</td>\n",
       "      <td>0.0</td>\n",
       "      <td>0.0</td>\n",
       "      <td>0.0</td>\n",
       "    </tr>\n",
       "    <tr>\n",
       "      <th>max</th>\n",
       "      <td>35.000000</td>\n",
       "      <td>0.0</td>\n",
       "      <td>0.0</td>\n",
       "      <td>0.0</td>\n",
       "      <td>0.0</td>\n",
       "      <td>63.000000</td>\n",
       "      <td>213.000000</td>\n",
       "      <td>108.000000</td>\n",
       "      <td>95.000000</td>\n",
       "      <td>208.000000</td>\n",
       "      <td>...</td>\n",
       "      <td>0.0</td>\n",
       "      <td>0.0</td>\n",
       "      <td>0.0</td>\n",
       "      <td>0.0</td>\n",
       "      <td>0.0</td>\n",
       "      <td>0.0</td>\n",
       "      <td>0.0</td>\n",
       "      <td>0.0</td>\n",
       "      <td>0.0</td>\n",
       "      <td>0.0</td>\n",
       "    </tr>\n",
       "  </tbody>\n",
       "</table>\n",
       "<p>8 rows × 785 columns</p>\n",
       "</div>"
      ],
      "text/plain": [
       "              label        1        2        3        4             5  \\\n",
       "count  14400.000000  14400.0  14400.0  14400.0  14400.0  14400.000000   \n",
       "mean      17.500000      0.0      0.0      0.0      0.0      0.007917   \n",
       "std       10.388655      0.0      0.0      0.0      0.0      0.604236   \n",
       "min        0.000000      0.0      0.0      0.0      0.0      0.000000   \n",
       "25%        8.750000      0.0      0.0      0.0      0.0      0.000000   \n",
       "50%       17.500000      0.0      0.0      0.0      0.0      0.000000   \n",
       "75%       26.250000      0.0      0.0      0.0      0.0      0.000000   \n",
       "max       35.000000      0.0      0.0      0.0      0.0     63.000000   \n",
       "\n",
       "                  6             7             8             9  ...      775  \\\n",
       "count  14400.000000  14400.000000  14400.000000  14400.000000  ...  14400.0   \n",
       "mean       0.025764      0.014722      0.012222      0.014722  ...      0.0   \n",
       "std        2.012452      1.204803      1.019562      1.733652  ...      0.0   \n",
       "min        0.000000      0.000000      0.000000      0.000000  ...      0.0   \n",
       "25%        0.000000      0.000000      0.000000      0.000000  ...      0.0   \n",
       "50%        0.000000      0.000000      0.000000      0.000000  ...      0.0   \n",
       "75%        0.000000      0.000000      0.000000      0.000000  ...      0.0   \n",
       "max      213.000000    108.000000     95.000000    208.000000  ...      0.0   \n",
       "\n",
       "           776      777      778      779      780      781      782      783  \\\n",
       "count  14400.0  14400.0  14400.0  14400.0  14400.0  14400.0  14400.0  14400.0   \n",
       "mean       0.0      0.0      0.0      0.0      0.0      0.0      0.0      0.0   \n",
       "std        0.0      0.0      0.0      0.0      0.0      0.0      0.0      0.0   \n",
       "min        0.0      0.0      0.0      0.0      0.0      0.0      0.0      0.0   \n",
       "25%        0.0      0.0      0.0      0.0      0.0      0.0      0.0      0.0   \n",
       "50%        0.0      0.0      0.0      0.0      0.0      0.0      0.0      0.0   \n",
       "75%        0.0      0.0      0.0      0.0      0.0      0.0      0.0      0.0   \n",
       "max        0.0      0.0      0.0      0.0      0.0      0.0      0.0      0.0   \n",
       "\n",
       "           784  \n",
       "count  14400.0  \n",
       "mean       0.0  \n",
       "std        0.0  \n",
       "min        0.0  \n",
       "25%        0.0  \n",
       "50%        0.0  \n",
       "75%        0.0  \n",
       "max        0.0  \n",
       "\n",
       "[8 rows x 785 columns]"
      ]
     },
     "execution_count": 35,
     "metadata": {},
     "output_type": "execute_result"
    }
   ],
   "source": [
    "test_data.describe()"
   ]
  },
  {
   "cell_type": "code",
   "execution_count": 36,
   "id": "4c7349c6",
   "metadata": {
    "execution": {
     "iopub.execute_input": "2023-06-23T09:16:49.316483Z",
     "iopub.status.busy": "2023-06-23T09:16:49.316051Z",
     "iopub.status.idle": "2023-06-23T09:16:49.321963Z",
     "shell.execute_reply": "2023-06-23T09:16:49.320870Z"
    },
    "papermill": {
     "duration": 0.019517,
     "end_time": "2023-06-23T09:16:49.324257",
     "exception": false,
     "start_time": "2023-06-23T09:16:49.304740",
     "status": "completed"
    },
    "tags": []
   },
   "outputs": [
    {
     "name": "stdout",
     "output_type": "stream",
     "text": [
      "Index(['index', 'label',       1,       2,       3,       4,       5,       6,\n",
      "             7,       8,\n",
      "       ...\n",
      "           775,     776,     777,     778,     779,     780,     781,     782,\n",
      "           783,     784],\n",
      "      dtype='object', length=786)\n",
      "Index(['label',       1,       2,       3,       4,       5,       6,       7,\n",
      "             8,       9,\n",
      "       ...\n",
      "           775,     776,     777,     778,     779,     780,     781,     782,\n",
      "           783,     784],\n",
      "      dtype='object', length=785)\n"
     ]
    }
   ],
   "source": [
    "print(train_data.columns)\n",
    "print(test_data.columns)"
   ]
  },
  {
   "cell_type": "markdown",
   "id": "4e3699da",
   "metadata": {
    "papermill": {
     "duration": 0.009549,
     "end_time": "2023-06-23T09:16:49.344089",
     "exception": false,
     "start_time": "2023-06-23T09:16:49.334540",
     "status": "completed"
    },
    "tags": []
   },
   "source": [
    "## **2.Data Preparation**\n"
   ]
  },
  {
   "cell_type": "code",
   "execution_count": 37,
   "id": "a21b684e",
   "metadata": {
    "execution": {
     "iopub.execute_input": "2023-06-23T09:16:49.366148Z",
     "iopub.status.busy": "2023-06-23T09:16:49.365318Z",
     "iopub.status.idle": "2023-06-23T09:16:49.685674Z",
     "shell.execute_reply": "2023-06-23T09:16:49.684902Z"
    },
    "papermill": {
     "duration": 0.333597,
     "end_time": "2023-06-23T09:16:49.687666",
     "exception": false,
     "start_time": "2023-06-23T09:16:49.354069",
     "status": "completed"
    },
    "tags": []
   },
   "outputs": [
    {
     "data": {
      "text/plain": [
       "index    56332.59\n",
       "1            0.00\n",
       "2            0.00\n",
       "3            0.00\n",
       "4            0.00\n",
       "           ...   \n",
       "780          0.00\n",
       "781          0.00\n",
       "782          0.00\n",
       "783          0.00\n",
       "784          0.00\n",
       "Length: 785, dtype: float64"
      ]
     },
     "execution_count": 37,
     "metadata": {},
     "output_type": "execute_result"
    }
   ],
   "source": [
    "round(train_data.drop('label', axis=1).mean(), 2)"
   ]
  },
  {
   "cell_type": "code",
   "execution_count": 38,
   "id": "64c5bff2",
   "metadata": {
    "execution": {
     "iopub.execute_input": "2023-06-23T09:16:49.730472Z",
     "iopub.status.busy": "2023-06-23T09:16:49.729843Z",
     "iopub.status.idle": "2023-06-23T09:16:49.896209Z",
     "shell.execute_reply": "2023-06-23T09:16:49.894858Z"
    },
    "papermill": {
     "duration": 0.180542,
     "end_time": "2023-06-23T09:16:49.898636",
     "exception": false,
     "start_time": "2023-06-23T09:16:49.718094",
     "status": "completed"
    },
    "tags": []
   },
   "outputs": [
    {
     "name": "stdout",
     "output_type": "stream",
     "text": [
      "(86400, 786)\n"
     ]
    }
   ],
   "source": [
    "# Separating the X and Y variable\n",
    "\n",
    "y = train_data['label']\n",
    "\n",
    "# Dropping the variable 'label' from X variable \n",
    "X = train_data.drop(columns = 'label')\n",
    "\n",
    "# Printing the size of data \n",
    "print(train_data.shape)"
   ]
  },
  {
   "cell_type": "code",
   "execution_count": 39,
   "id": "8c132cda",
   "metadata": {},
   "outputs": [
    {
     "data": {
      "image/png": "[encoded data removed]",
      "text/plain": [
       "<Figure size 1000x500 with 1 Axes>"
      ]
     },
     "metadata": {},
     "output_type": "display_data"
    }
   ],
   "source": [
    "# Flatten all pixel values into a 1D array\n",
    "pixel_values = train_data.drop(['label'], axis=1).values.flatten()\n",
    "\n",
    "plt.figure(figsize=(10,5))\n",
    "plt.hist(pixel_values, bins=30, color='blue', alpha=0.7, range=(0, 255))  # Set range to focus on 0-255\n",
    "plt.title(\"Distribution of Pixel Values\")\n",
    "plt.xlabel(\"Pixel Intensity (0-255)\")\n",
    "plt.ylabel(\"Frequency\")\n",
    "plt.xlim(0, 255)  # Limit the x-axis to the full range of pixel intensities\n",
    "plt.grid(True)  # Add grid for better readability\n",
    "plt.show()\n"
   ]
  },
  {
   "cell_type": "code",
   "execution_count": 40,
   "id": "d3e0c6a9",
   "metadata": {
    "execution": {
     "iopub.execute_input": "2023-06-23T09:16:49.940755Z",
     "iopub.status.busy": "2023-06-23T09:16:49.940332Z",
     "iopub.status.idle": "2023-06-23T09:16:50.092780Z",
     "shell.execute_reply": "2023-06-23T09:16:50.091901Z"
    },
    "papermill": {
     "duration": 0.166361,
     "end_time": "2023-06-23T09:16:50.095291",
     "exception": false,
     "start_time": "2023-06-23T09:16:49.928930",
     "status": "completed"
    },
    "tags": []
   },
   "outputs": [
    {
     "name": "stdout",
     "output_type": "stream",
     "text": [
      "X: (86400, 785)\n",
      "test_data: (14400, 785)\n"
     ]
    }
   ],
   "source": [
    "# Min-Max Normalization\n",
    "# X = X - Xmin/Xmax - Xmin\n",
    "\n",
    "X = X/255.0\n",
    "test_data = test_data/255.0\n",
    "\n",
    "print(\"X:\", X.shape)\n",
    "print(\"test_data:\", test_data.shape)"
   ]
  },
  {
   "cell_type": "code",
   "execution_count": 16,
   "id": "d4e18fbb",
   "metadata": {
    "execution": {
     "iopub.execute_input": "2023-06-23T09:16:50.117599Z",
     "iopub.status.busy": "2023-06-23T09:16:50.117187Z",
     "iopub.status.idle": "2023-06-23T09:16:53.103883Z",
     "shell.execute_reply": "2023-06-23T09:16:53.103006Z"
    },
    "papermill": {
     "duration": 3.000643,
     "end_time": "2023-06-23T09:16:53.106461",
     "exception": false,
     "start_time": "2023-06-23T09:16:50.105818",
     "status": "completed"
    },
    "tags": []
   },
   "outputs": [],
   "source": [
    "# scaling the features\n",
    "# uses standard deviation to further scale the features to fit the model like SD reduced to 1 from variance\n",
    "from sklearn.preprocessing import scale\n",
    "X_scaled = scale(X)\n",
    "\n",
    "# train test split\n",
    "X_train, X_test, y_train, y_test = train_test_split(X_scaled, y, test_size = 0.2, train_size = 0.3 ,random_state = 10)"
   ]
  },
  {
   "cell_type": "markdown",
   "id": "87cc0478",
   "metadata": {
    "papermill": {
     "duration": 0.010048,
     "end_time": "2023-06-23T09:16:53.127471",
     "exception": false,
     "start_time": "2023-06-23T09:16:53.117423",
     "status": "completed"
    },
    "tags": []
   },
   "source": [
    "## **3. Model Soft Margin Support Vector Machine**"
   ]
  },
  {
   "cell_type": "code",
   "execution_count": 17,
   "id": "cd7090e3",
   "metadata": {
    "execution": {
     "iopub.execute_input": "2023-06-23T09:16:53.150572Z",
     "iopub.status.busy": "2023-06-23T09:16:53.149830Z",
     "iopub.status.idle": "2023-06-23T09:20:48.291901Z",
     "shell.execute_reply": "2023-06-23T09:20:48.290918Z"
    },
    "papermill": {
     "duration": 235.157158,
     "end_time": "2023-06-23T09:20:48.295129",
     "exception": false,
     "start_time": "2023-06-23T09:16:53.137971",
     "status": "completed"
    },
    "tags": []
   },
   "outputs": [],
   "source": [
    "# linear model\n",
    "\n",
    "model_linear = SVC(kernel='linear')\n",
    "model_linear.fit(X_train, y_train)\n",
    "\n",
    "# predict\n",
    "y_pred = model_linear.predict(X_test)"
   ]
  },
  {
   "cell_type": "markdown",
   "id": "95beaf7b",
   "metadata": {},
   "source": [
    "![Alt Text](./images/linear_svm.png)"
   ]
  },
  {
   "cell_type": "code",
   "execution_count": 18,
   "id": "d4b5c0f4",
   "metadata": {
    "execution": {
     "iopub.execute_input": "2023-06-23T09:20:48.318941Z",
     "iopub.status.busy": "2023-06-23T09:20:48.318547Z",
     "iopub.status.idle": "2023-06-23T09:20:48.333444Z",
     "shell.execute_reply": "2023-06-23T09:20:48.332254Z"
    },
    "papermill": {
     "duration": 0.029386,
     "end_time": "2023-06-23T09:20:48.335724",
     "exception": false,
     "start_time": "2023-06-23T09:20:48.306338",
     "status": "completed"
    },
    "tags": []
   },
   "outputs": [
    {
     "name": "stdout",
     "output_type": "stream",
     "text": [
      "accuracy: 0.7333912037037037 \n",
      "\n",
      "[[293   1   1 ...   0   0   1]\n",
      " [  0 257   0 ...   1   4   0]\n",
      " [  0   1 367 ...   3   0  54]\n",
      " ...\n",
      " [  0  13   2 ... 314  19   3]\n",
      " [  2  10   1 ...  25 297   0]\n",
      " [  0   0  94 ...   9   2 270]]\n"
     ]
    }
   ],
   "source": [
    "# confusion matrix and accuracy\n",
    "from sklearn import metrics\n",
    "# accuracy\n",
    "print(\"accuracy:\", metrics.accuracy_score(y_true=y_test, y_pred=y_pred), \"\\n\")\n",
    "\n",
    "# cm\n",
    "print(metrics.confusion_matrix(y_true=y_test, y_pred=y_pred))"
   ]
  },
  {
   "cell_type": "markdown",
   "id": "c05ab276",
   "metadata": {
    "papermill": {
     "duration": 0.009941,
     "end_time": "2023-06-23T09:20:48.356177",
     "exception": false,
     "start_time": "2023-06-23T09:20:48.346236",
     "status": "completed"
    },
    "tags": []
   },
   "source": []
  },
  {
   "cell_type": "markdown",
   "id": "a854ed2b",
   "metadata": {
    "papermill": {
     "duration": 0.009591,
     "end_time": "2023-06-23T09:20:48.375956",
     "exception": false,
     "start_time": "2023-06-23T09:20:48.366365",
     "status": "completed"
    },
    "tags": []
   },
   "source": [
    "## **4. Kernel Support Vector Machine**"
   ]
  },
  {
   "cell_type": "markdown",
   "id": "da71febe",
   "metadata": {},
   "source": [
    "![Alt Text](./images/RBF.png)\n"
   ]
  },
  {
   "cell_type": "code",
   "execution_count": 19,
   "id": "518a6ccd",
   "metadata": {
    "execution": {
     "iopub.execute_input": "2023-06-23T09:20:48.454796Z",
     "iopub.status.busy": "2023-06-23T09:20:48.454340Z",
     "iopub.status.idle": "2023-06-23T09:27:18.678807Z",
     "shell.execute_reply": "2023-06-23T09:27:18.677709Z"
    },
    "papermill": {
     "duration": 390.248019,
     "end_time": "2023-06-23T09:27:18.691302",
     "exception": false,
     "start_time": "2023-06-23T09:20:48.443283",
     "status": "completed"
    },
    "tags": []
   },
   "outputs": [
    {
     "name": "stdout",
     "output_type": "stream",
     "text": [
      "accuracy: 0.8234375 \n",
      "\n",
      "[[359   0   0 ...   1   0   0]\n",
      " [  0 326   0 ...   0   5   0]\n",
      " [  0   1 380 ...   0   0  64]\n",
      " ...\n",
      " [  0   0   2 ... 376  25   4]\n",
      " [  0   5   0 ...   3 370   1]\n",
      " [  0   0  30 ...   2   1 386]]\n"
     ]
    }
   ],
   "source": [
    "# model projects the data into an infinite-dimensional space\n",
    "non_linear_model = SVC(kernel='rbf')\n",
    "\n",
    "# fit\n",
    "non_linear_model.fit(X_train, y_train)\n",
    "\n",
    "# predict\n",
    "y_pred = non_linear_model.predict(X_test)\n",
    "\n",
    "# accuracy\n",
    "print(\"accuracy:\", metrics.accuracy_score(y_true=y_test, y_pred=y_pred), \"\\n\")\n",
    "\n",
    "# cm\n",
    "print(metrics.confusion_matrix(y_true=y_test, y_pred=y_pred))"
   ]
  },
  {
   "cell_type": "markdown",
   "id": "e85e2321",
   "metadata": {
    "papermill": {
     "duration": 0.009308,
     "end_time": "2023-06-23T09:27:18.748549",
     "exception": false,
     "start_time": "2023-06-23T09:27:18.739241",
     "status": "completed"
    },
    "tags": []
   },
   "source": [
    "## Using 5-fold cross validation and grid search to find optimal values of gamma and C."
   ]
  },
  {
   "cell_type": "markdown",
   "id": "f8947989",
   "metadata": {},
   "source": [
    "![Alt Text](./images/Hyper_C.png)\n"
   ]
  },
  {
   "cell_type": "code",
   "execution_count": 20,
   "id": "6ccbcb75",
   "metadata": {
    "execution": {
     "iopub.execute_input": "2023-06-23T09:27:18.770135Z",
     "iopub.status.busy": "2023-06-23T09:27:18.769064Z",
     "iopub.status.idle": "2023-06-23T13:45:52.442406Z",
     "shell.execute_reply": "2023-06-23T13:45:52.440485Z"
    },
    "papermill": {
     "duration": 15513.715548,
     "end_time": "2023-06-23T13:45:52.473757",
     "exception": false,
     "start_time": "2023-06-23T09:27:18.758209",
     "status": "completed"
    },
    "tags": []
   },
   "outputs": [
    {
     "name": "stdout",
     "output_type": "stream",
     "text": [
      "Fitting 5 folds for each of 6 candidates, totalling 30 fits\n"
     ]
    },
    {
     "data": {
      "text/html": [
       "<div>\n",
       "<style scoped>\n",
       "    .dataframe tbody tr th:only-of-type {\n",
       "        vertical-align: middle;\n",
       "    }\n",
       "\n",
       "    .dataframe tbody tr th {\n",
       "        vertical-align: top;\n",
       "    }\n",
       "\n",
       "    .dataframe thead th {\n",
       "        text-align: right;\n",
       "    }\n",
       "</style>\n",
       "<table border=\"1\" class=\"dataframe\">\n",
       "  <thead>\n",
       "    <tr style=\"text-align: right;\">\n",
       "      <th></th>\n",
       "      <th>mean_fit_time</th>\n",
       "      <th>std_fit_time</th>\n",
       "      <th>mean_score_time</th>\n",
       "      <th>std_score_time</th>\n",
       "      <th>param_C</th>\n",
       "      <th>param_gamma</th>\n",
       "      <th>params</th>\n",
       "      <th>split0_test_score</th>\n",
       "      <th>split1_test_score</th>\n",
       "      <th>split2_test_score</th>\n",
       "      <th>...</th>\n",
       "      <th>mean_test_score</th>\n",
       "      <th>std_test_score</th>\n",
       "      <th>rank_test_score</th>\n",
       "      <th>split0_train_score</th>\n",
       "      <th>split1_train_score</th>\n",
       "      <th>split2_train_score</th>\n",
       "      <th>split3_train_score</th>\n",
       "      <th>split4_train_score</th>\n",
       "      <th>mean_train_score</th>\n",
       "      <th>std_train_score</th>\n",
       "    </tr>\n",
       "  </thead>\n",
       "  <tbody>\n",
       "    <tr>\n",
       "      <th>0</th>\n",
       "      <td>248.228089</td>\n",
       "      <td>5.921161</td>\n",
       "      <td>93.976144</td>\n",
       "      <td>1.207883</td>\n",
       "      <td>5</td>\n",
       "      <td>0.01</td>\n",
       "      <td>{'C': 5, 'gamma': 0.01}</td>\n",
       "      <td>0.616319</td>\n",
       "      <td>0.611497</td>\n",
       "      <td>0.607639</td>\n",
       "      <td>...</td>\n",
       "      <td>0.609105</td>\n",
       "      <td>0.004869</td>\n",
       "      <td>5</td>\n",
       "      <td>0.993007</td>\n",
       "      <td>0.993297</td>\n",
       "      <td>0.993152</td>\n",
       "      <td>0.993393</td>\n",
       "      <td>0.993586</td>\n",
       "      <td>0.993287</td>\n",
       "      <td>0.000199</td>\n",
       "    </tr>\n",
       "    <tr>\n",
       "      <th>1</th>\n",
       "      <td>55.133681</td>\n",
       "      <td>0.650980</td>\n",
       "      <td>70.538568</td>\n",
       "      <td>0.594266</td>\n",
       "      <td>5</td>\n",
       "      <td>0.001</td>\n",
       "      <td>{'C': 5, 'gamma': 0.001}</td>\n",
       "      <td>0.829475</td>\n",
       "      <td>0.825231</td>\n",
       "      <td>0.824267</td>\n",
       "      <td>...</td>\n",
       "      <td>0.827739</td>\n",
       "      <td>0.002750</td>\n",
       "      <td>2</td>\n",
       "      <td>0.955392</td>\n",
       "      <td>0.954379</td>\n",
       "      <td>0.955681</td>\n",
       "      <td>0.955874</td>\n",
       "      <td>0.955440</td>\n",
       "      <td>0.955353</td>\n",
       "      <td>0.000517</td>\n",
       "    </tr>\n",
       "    <tr>\n",
       "      <th>2</th>\n",
       "      <td>49.345872</td>\n",
       "      <td>1.319270</td>\n",
       "      <td>72.576999</td>\n",
       "      <td>0.458883</td>\n",
       "      <td>5</td>\n",
       "      <td>0.0001</td>\n",
       "      <td>{'C': 5, 'gamma': 0.0001}</td>\n",
       "      <td>0.780478</td>\n",
       "      <td>0.772569</td>\n",
       "      <td>0.769676</td>\n",
       "      <td>...</td>\n",
       "      <td>0.776813</td>\n",
       "      <td>0.004742</td>\n",
       "      <td>4</td>\n",
       "      <td>0.823881</td>\n",
       "      <td>0.823447</td>\n",
       "      <td>0.826582</td>\n",
       "      <td>0.824026</td>\n",
       "      <td>0.822868</td>\n",
       "      <td>0.824161</td>\n",
       "      <td>0.001276</td>\n",
       "    </tr>\n",
       "    <tr>\n",
       "      <th>3</th>\n",
       "      <td>257.667317</td>\n",
       "      <td>8.243842</td>\n",
       "      <td>95.052612</td>\n",
       "      <td>1.186179</td>\n",
       "      <td>10</td>\n",
       "      <td>0.01</td>\n",
       "      <td>{'C': 10, 'gamma': 0.01}</td>\n",
       "      <td>0.614969</td>\n",
       "      <td>0.608989</td>\n",
       "      <td>0.606867</td>\n",
       "      <td>...</td>\n",
       "      <td>0.607446</td>\n",
       "      <td>0.005002</td>\n",
       "      <td>6</td>\n",
       "      <td>0.997299</td>\n",
       "      <td>0.997830</td>\n",
       "      <td>0.997444</td>\n",
       "      <td>0.997541</td>\n",
       "      <td>0.997348</td>\n",
       "      <td>0.997492</td>\n",
       "      <td>0.000188</td>\n",
       "    </tr>\n",
       "    <tr>\n",
       "      <th>4</th>\n",
       "      <td>56.572646</td>\n",
       "      <td>1.494131</td>\n",
       "      <td>71.110963</td>\n",
       "      <td>0.631646</td>\n",
       "      <td>10</td>\n",
       "      <td>0.001</td>\n",
       "      <td>{'C': 10, 'gamma': 0.001}</td>\n",
       "      <td>0.829090</td>\n",
       "      <td>0.830440</td>\n",
       "      <td>0.824074</td>\n",
       "      <td>...</td>\n",
       "      <td>0.828549</td>\n",
       "      <td>0.003568</td>\n",
       "      <td>1</td>\n",
       "      <td>0.967689</td>\n",
       "      <td>0.967689</td>\n",
       "      <td>0.968412</td>\n",
       "      <td>0.968895</td>\n",
       "      <td>0.968605</td>\n",
       "      <td>0.968258</td>\n",
       "      <td>0.000489</td>\n",
       "    </tr>\n",
       "    <tr>\n",
       "      <th>5</th>\n",
       "      <td>42.068590</td>\n",
       "      <td>0.492795</td>\n",
       "      <td>70.983135</td>\n",
       "      <td>2.242833</td>\n",
       "      <td>10</td>\n",
       "      <td>0.0001</td>\n",
       "      <td>{'C': 10, 'gamma': 0.0001}</td>\n",
       "      <td>0.786073</td>\n",
       "      <td>0.778742</td>\n",
       "      <td>0.781057</td>\n",
       "      <td>...</td>\n",
       "      <td>0.784838</td>\n",
       "      <td>0.004536</td>\n",
       "      <td>3</td>\n",
       "      <td>0.851225</td>\n",
       "      <td>0.852334</td>\n",
       "      <td>0.854601</td>\n",
       "      <td>0.851900</td>\n",
       "      <td>0.851948</td>\n",
       "      <td>0.852402</td>\n",
       "      <td>0.001156</td>\n",
       "    </tr>\n",
       "  </tbody>\n",
       "</table>\n",
       "<p>6 rows × 22 columns</p>\n",
       "</div>"
      ],
      "text/plain": [
       "   mean_fit_time  std_fit_time  mean_score_time  std_score_time param_C  \\\n",
       "0     248.228089      5.921161        93.976144        1.207883       5   \n",
       "1      55.133681      0.650980        70.538568        0.594266       5   \n",
       "2      49.345872      1.319270        72.576999        0.458883       5   \n",
       "3     257.667317      8.243842        95.052612        1.186179      10   \n",
       "4      56.572646      1.494131        71.110963        0.631646      10   \n",
       "5      42.068590      0.492795        70.983135        2.242833      10   \n",
       "\n",
       "  param_gamma                      params  split0_test_score  \\\n",
       "0        0.01     {'C': 5, 'gamma': 0.01}           0.616319   \n",
       "1       0.001    {'C': 5, 'gamma': 0.001}           0.829475   \n",
       "2      0.0001   {'C': 5, 'gamma': 0.0001}           0.780478   \n",
       "3        0.01    {'C': 10, 'gamma': 0.01}           0.614969   \n",
       "4       0.001   {'C': 10, 'gamma': 0.001}           0.829090   \n",
       "5      0.0001  {'C': 10, 'gamma': 0.0001}           0.786073   \n",
       "\n",
       "   split1_test_score  split2_test_score  ...  mean_test_score  std_test_score  \\\n",
       "0           0.611497           0.607639  ...         0.609105        0.004869   \n",
       "1           0.825231           0.824267  ...         0.827739        0.002750   \n",
       "2           0.772569           0.769676  ...         0.776813        0.004742   \n",
       "3           0.608989           0.606867  ...         0.607446        0.005002   \n",
       "4           0.830440           0.824074  ...         0.828549        0.003568   \n",
       "5           0.778742           0.781057  ...         0.784838        0.004536   \n",
       "\n",
       "   rank_test_score  split0_train_score  split1_train_score  \\\n",
       "0                5            0.993007            0.993297   \n",
       "1                2            0.955392            0.954379   \n",
       "2                4            0.823881            0.823447   \n",
       "3                6            0.997299            0.997830   \n",
       "4                1            0.967689            0.967689   \n",
       "5                3            0.851225            0.852334   \n",
       "\n",
       "   split2_train_score  split3_train_score  split4_train_score  \\\n",
       "0            0.993152            0.993393            0.993586   \n",
       "1            0.955681            0.955874            0.955440   \n",
       "2            0.826582            0.824026            0.822868   \n",
       "3            0.997444            0.997541            0.997348   \n",
       "4            0.968412            0.968895            0.968605   \n",
       "5            0.854601            0.851900            0.851948   \n",
       "\n",
       "   mean_train_score  std_train_score  \n",
       "0          0.993287         0.000199  \n",
       "1          0.955353         0.000517  \n",
       "2          0.824161         0.001276  \n",
       "3          0.997492         0.000188  \n",
       "4          0.968258         0.000489  \n",
       "5          0.852402         0.001156  \n",
       "\n",
       "[6 rows x 22 columns]"
      ]
     },
     "execution_count": 20,
     "metadata": {},
     "output_type": "execute_result"
    }
   ],
   "source": [
    "#\n",
    "# creating a KFold object with 5 splits \n",
    "folds = KFold(n_splits = 5, shuffle = True, random_state = 10)\n",
    "\n",
    "# specify range of hyperparameters\n",
    "# Set the parameters by cross-validation\n",
    "hyper_params = [ {'gamma': [1e-2, 1e-3, 1e-4], # [0.01,0.001,0.0001]\n",
    "                     'C': [5,10]}]\n",
    "\n",
    "\n",
    "# specify model\n",
    "model = SVC(kernel=\"rbf\")\n",
    "\n",
    "# set up GridSearchCV()\n",
    "model_cv = GridSearchCV(estimator = model, \n",
    "                        param_grid = hyper_params, \n",
    "                        scoring= 'accuracy', \n",
    "                        cv = folds, \n",
    "                        verbose = 1,\n",
    "                        return_train_score=True)      \n",
    "\n",
    "# fit the model\n",
    "model_cv.fit(X_train, y_train)\n",
    "\n",
    "# cv results\n",
    "cv_results = pd.DataFrame(model_cv.cv_results_)\n",
    "cv_results\n",
    "\n"
   ]
  },
  {
   "cell_type": "code",
   "execution_count": 21,
   "id": "89b3f84f",
   "metadata": {
    "execution": {
     "iopub.execute_input": "2023-06-23T13:45:52.499411Z",
     "iopub.status.busy": "2023-06-23T13:45:52.499011Z",
     "iopub.status.idle": "2023-06-23T13:45:54.092858Z",
     "shell.execute_reply": "2023-06-23T13:45:54.091820Z"
    },
    "papermill": {
     "duration": 1.611749,
     "end_time": "2023-06-23T13:45:54.096426",
     "exception": false,
     "start_time": "2023-06-23T13:45:52.484677",
     "status": "completed"
    },
    "tags": []
   },
   "outputs": [
    {
     "data": {
      "image/png": "[encoded data removed]",
      "text/plain": [
       "<Figure size 1600x800 with 3 Axes>"
      ]
     },
     "metadata": {},
     "output_type": "display_data"
    }
   ],
   "source": [
    "# converting C to numeric type for plotting on x-axis\n",
    "cv_results['param_C'] = cv_results['param_C'].astype('int')\n",
    "\n",
    "# # plotting\n",
    "plt.figure(figsize=(16,8))\n",
    "\n",
    "# subplot 1/3\n",
    "plt.subplot(131)\n",
    "gamma_01 = cv_results[cv_results['param_gamma']==0.01]\n",
    "\n",
    "plt.plot(gamma_01[\"param_C\"], gamma_01[\"mean_test_score\"])\n",
    "plt.plot(gamma_01[\"param_C\"], gamma_01[\"mean_train_score\"])\n",
    "plt.xlabel('C')\n",
    "plt.ylabel('Accuracy')\n",
    "plt.title(\"Gamma=0.01\")\n",
    "plt.ylim([0.60, 1])\n",
    "plt.legend(['test accuracy', 'train accuracy'], loc='upper left')\n",
    "plt.xscale('log')\n",
    "\n",
    "# subplot 2/3\n",
    "plt.subplot(132)\n",
    "gamma_001 = cv_results[cv_results['param_gamma']==0.001]\n",
    "\n",
    "plt.plot(gamma_001[\"param_C\"], gamma_001[\"mean_test_score\"])\n",
    "plt.plot(gamma_001[\"param_C\"], gamma_001[\"mean_train_score\"])\n",
    "plt.xlabel('C')\n",
    "plt.ylabel('Accuracy')\n",
    "plt.title(\"Gamma=0.001\")\n",
    "plt.ylim([0.60, 1])\n",
    "plt.legend(['test accuracy', 'train accuracy'], loc='upper left')\n",
    "plt.xscale('log')\n",
    "\n",
    "\n",
    "# subplot 3/3\n",
    "plt.subplot(133)\n",
    "gamma_0001 = cv_results[cv_results['param_gamma']==0.0001]\n",
    "\n",
    "plt.plot(gamma_0001[\"param_C\"], gamma_0001[\"mean_test_score\"])\n",
    "plt.plot(gamma_0001[\"param_C\"], gamma_0001[\"mean_train_score\"])\n",
    "plt.xlabel('C')\n",
    "plt.ylabel('Accuracy')\n",
    "plt.title(\"Gamma=0.0001\")\n",
    "plt.ylim([0.60, 1])\n",
    "plt.legend(['test accuracy', 'train accuracy'], loc='upper left')\n",
    "plt.xscale('log')"
   ]
  },
  {
   "cell_type": "code",
   "execution_count": 22,
   "id": "4a626f32",
   "metadata": {
    "execution": {
     "iopub.execute_input": "2023-06-23T13:45:54.146410Z",
     "iopub.status.busy": "2023-06-23T13:45:54.145990Z",
     "iopub.status.idle": "2023-06-23T13:52:08.306868Z",
     "shell.execute_reply": "2023-06-23T13:52:08.305567Z"
    },
    "papermill": {
     "duration": 374.189578,
     "end_time": "2023-06-23T13:52:08.322453",
     "exception": false,
     "start_time": "2023-06-23T13:45:54.132875",
     "status": "completed"
    },
    "tags": []
   },
   "outputs": [
    {
     "name": "stdout",
     "output_type": "stream",
     "text": [
      "accuracy 0.8388888888888889 \n",
      "\n",
      "[[336   0   0 ...   0   0   0]\n",
      " [  0 290   0 ...   0   2   0]\n",
      " [  0   0 398 ...   1   0  48]\n",
      " ...\n",
      " [  0   1   2 ... 384  15   4]\n",
      " [  1   2   1 ...   4 390   2]\n",
      " [  1   0  40 ...   2   1 379]] \n",
      "\n"
     ]
    }
   ],
   "source": [
    "# model with optimal hyperparameters\n",
    "\n",
    "# model\n",
    "model = SVC(C=10, gamma=0.001, kernel=\"rbf\")\n",
    "\n",
    "model.fit(X_train, y_train)\n",
    "y_pred = model.predict(X_test)\n",
    "\n",
    "# metrics\n",
    "print(\"accuracy\", metrics.accuracy_score(y_test, y_pred), \"\\n\")\n",
    "print(metrics.confusion_matrix(y_test, y_pred), \"\\n\")"
   ]
  }
 ],
 "metadata": {
  "kernelspec": {
   "display_name": ".venv",
   "language": "python",
   "name": "python3"
  },
  "language_info": {
   "codemirror_mode": {
    "name": "ipython",
    "version": 3
   },
   "file_extension": ".py",
   "mimetype": "text/x-python",
   "name": "python",
   "nbconvert_exporter": "python",
   "pygments_lexer": "ipython3",
   "version": "3.11.5"
  },
  "papermill": {
   "default_parameters": {},
   "duration": 16544.828033,
   "end_time": "2023-06-23T13:52:09.446736",
   "environment_variables": {},
   "exception": null,
   "input_path": "__notebook__.ipynb",
   "output_path": "__notebook__.ipynb",
   "parameters": {},
   "start_time": "2023-06-23T09:16:24.618703",
   "version": "2.4.0"
  }
 },
 "nbformat": 4,
 "nbformat_minor": 5
}
