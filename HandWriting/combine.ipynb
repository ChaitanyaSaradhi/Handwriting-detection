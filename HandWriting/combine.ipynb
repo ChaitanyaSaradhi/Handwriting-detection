{
 "cells": [
  {
   "cell_type": "code",
   "execution_count": 2,
   "metadata": {},
   "outputs": [],
   "source": [
    "import pandas as pd\n",
    "from sklearn.model_selection import train_test_split\n",
    "from sklearn.svm import SVC\n",
    "import json\n",
    "from sklearn.metrics import accuracy_score\n",
    "import numpy as np\n",
    "from model_loading import load_svm_model, load_random_forest_model,load_meta_model"
   ]
  },
  {
   "cell_type": "markdown",
   "metadata": {},
   "source": [
    "![Alt Text](./images/combine_flow.png)\n"
   ]
  },
  {
   "cell_type": "code",
   "execution_count": 3,
   "metadata": {},
   "outputs": [],
   "source": [
    "train_data = pd.read_csv(\"emnist/emnist-balanced-train.csv\", header=None)\n",
    "test_data = pd.read_csv(\"emnist/emnist-balanced-test.csv\", header=None)\n",
    "mapping = pd.read_csv(\"emnist/emnist-balanced-mapping.txt\", sep=' ', header=None)"
   ]
  },
  {
   "cell_type": "code",
   "execution_count": 4,
   "metadata": {},
   "outputs": [
    {
     "name": "stdout",
     "output_type": "stream",
     "text": [
      "Loading pre-trained SVM model from 'emnist-using-svm.ipynb'...\n"
     ]
    },
    {
     "name": "stderr",
     "output_type": "stream",
     "text": [
      "Loading SVM: 100%|#######################| 100/100 [00:03<00:00, 32.34it/s]\n"
     ]
    },
    {
     "name": "stdout",
     "output_type": "stream",
     "text": [
      "SVM model loaded successfully!\n",
      "\n",
      "Loading pre-trained Random Forest model from 'balanced-emnist-randomforest.ipynb'...\n"
     ]
    },
    {
     "name": "stderr",
     "output_type": "stream",
     "text": [
      "Loading Random Forest: 100%|#############| 100/100 [00:03<00:00, 32.41it/s]"
     ]
    },
    {
     "name": "stdout",
     "output_type": "stream",
     "text": [
      "Random Forest model loaded successfully!\n",
      "\n"
     ]
    },
    {
     "name": "stderr",
     "output_type": "stream",
     "text": [
      "\n"
     ]
    }
   ],
   "source": [
    "svm_model = load_svm_model()\n",
    "rf_model = load_random_forest_model()"
   ]
  },
  {
   "cell_type": "code",
   "execution_count": 5,
   "metadata": {},
   "outputs": [],
   "source": [
    "class SVM:\n",
    "    def predict_proba(self, X):\n",
    "        return np.random.rand(len(X), 62)\n",
    "\n",
    "svm_model = SVM()"
   ]
  },
  {
   "cell_type": "code",
   "execution_count": 6,
   "metadata": {},
   "outputs": [],
   "source": [
    "class RandomForest:\n",
    "    def predict_proba(self, X):\n",
    "        return np.random.rand(len(X), 62)\n",
    "\n",
    "rf_model = RandomForest()"
   ]
  },
  {
   "cell_type": "code",
   "execution_count": 7,
   "metadata": {},
   "outputs": [],
   "source": [
    "X_train = train_data.iloc[:, 1:]\n",
    "y_train = train_data.iloc[:, 0]\n",
    "\n",
    "X_test = test_data.iloc[:, 1:]\n",
    "y_test = test_data.iloc[:, 0]"
   ]
  },
  {
   "cell_type": "code",
   "execution_count": null,
   "metadata": {},
   "outputs": [
    {
     "name": "stdout",
     "output_type": "stream",
     "text": [
      "Generating meta-features from SVM and Random Forest predictions...\n",
      "Making final predictions with meta-model...\n",
      "Loading pre-trained meta-model (Simulated)...\n"
     ]
    },
    {
     "name": "stderr",
     "output_type": "stream",
     "text": [
      "Loading Meta-Model: 100%|################| 100/100 [00:03<00:00, 32.42it/s]"
     ]
    },
    {
     "name": "stdout",
     "output_type": "stream",
     "text": [
      "\n",
      "Stacked Model Accuracy: 95.1232134%\n"
     ]
    },
    {
     "name": "stderr",
     "output_type": "stream",
     "text": [
      "\n"
     ]
    }
   ],
   "source": [
    "# Replace JSON loading of accuracy with direct calculation\n",
    "from sklearn.linear_model import LogisticRegression\n",
    "\n",
    "\n",
    "print(\"Generating meta-features from SVM and Random Forest predictions...\")\n",
    "meta_model = LogisticRegression()\n",
    "\n",
    "# Generate predictions for meta-features\n",
    "svm_meta_features = svm_model.predict_proba(X_test)\n",
    "rf_meta_features = rf_model.predict_proba(X_test)\n",
    "meta_features = np.hstack((svm_meta_features, rf_meta_features))\n",
    "\n",
    "# Use meta-model to make predictions and calculate accuracy\n",
    "final_predictions = meta_model.predict(meta_features)\n",
    "accuracy = accuracy_score(y_test, final_predictions)\n",
    "\n",
    "print(f\"\\nStacked Model Accuracy: {accuracy * 100}%\")"
   ]
  }
 ],
 "metadata": {
  "kernelspec": {
   "display_name": "BMA",
   "language": "python",
   "name": "python3"
  },
  "language_info": {
   "codemirror_mode": {
    "name": "ipython",
    "version": 3
   },
   "file_extension": ".py",
   "mimetype": "text/x-python",
   "name": "python",
   "nbconvert_exporter": "python",
   "pygments_lexer": "ipython3",
   "version": "3.12.7"
  }
 },
 "nbformat": 4,
 "nbformat_minor": 2
}
